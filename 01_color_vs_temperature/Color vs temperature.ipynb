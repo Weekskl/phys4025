{
 "cells": [
  {
   "cell_type": "code",
   "execution_count": null,
   "metadata": {
    "collapsed": true
   },
   "outputs": [],
   "source": [
    "# Initial setup.\n",
    "# Import numpy and pyplot. Set up notebook for interactive plotting.\n",
    "# Also, increase the font size for figures, so we don't have to squint.\n",
    "import numpy as np\n",
    "import matplotlib.pyplot as plt\n",
    "%matplotlib inline\n",
    "from matplotlib import rcParams\n",
    "rcParams.update({'font.size': 14})\n"
   ]
  },
  {
   "cell_type": "markdown",
   "metadata": {},
   "source": [
    "# Color vs temperature\n",
    "\n",
    "The spectrum of stars can be approximated as a blackbody at the temperature of the stellar photosphere (about 5800 K for the Sun). Figure 2.1 from Maoz shows some examples of stellar spectra with effective temperatures ranging from 3500 to 40,000 K. While these spectra generally agree with the smooth blackbody curves, we can also see lots of additional structure from absorbtion in the outer layers of the stars.\n",
    "\n",
    "<img src=\"http://wise-obs.tau.ac.il/~dani/astfigs/fig2.1.jpg\" style=\"width: 600px;\" />\n",
    "\n",
    "Measuring detailed spectra like the ones shown above requires lots of telescope time with sensitive spectrographs, and can be impractical if you are trying to measure temperatures for a large number of stars. The Sloan Digital Sky Survey [Data Release 13](http://www.sdss.org/dr13/scope/) includes spectra for 851,968 stars but this uses data acquired over the course of 15 years on a dedicated 2.5m telescope!\n",
    "\n",
    "A more efficient method to measure stellar temperatures is with multi-band photometry. A photometric filter only passes light in a certain range of wavelengths and has a well-defined transmission function. With a photometric filter in place, an imaging telescope can measure the apparent brightness of every object in its field of view. By imaging the same objects with multiple photometric filters, we can calculate their \"colors\" and derive effective temperatures."
   ]
  },
  {
   "cell_type": "markdown",
   "metadata": {},
   "source": [
    "## Photometric filter system\n",
    "\n",
    "Standard photometric filter bands include U (\"ultraviolet\"), B (\"blue\"), V (\"visible\"), R (\"red\"), and I (\"infrared\"), though some telescopes use different systems. Files linked here contain normalized passbands for B, V, and R, taken from Table 2 of [Bessell,  PASP, 102, 1181 (1990)](http://adsabs.harvard.edu/abs/1990PASP..102.1181B).\n",
    "\n",
    "* [bessell_B.dat](bessell_B.dat)\n",
    "* [bessell_V.dat](bessell_V.dat)\n",
    "* [bessell_R.dat](bessell_R.dat)\n",
    "\n",
    "Read the filter functions from these files and make a plot of the filter responses vs wavelength. Recall that visible wavelengths range from &sim;390&ndash;700 nm."
   ]
  },
  {
   "cell_type": "code",
   "execution_count": null,
   "metadata": {
    "collapsed": true
   },
   "outputs": [],
   "source": [
    "# Read filter functions (this part is done for you).\n",
    "# Uses function np.genfromtxt to read numerical data from text file.\n",
    "# Column 0 contains wavelength, column 1 contains response.\n",
    "Bfilt = np.genfromtxt('bessell_B.dat')\n",
    "Vfilt = np.genfromtxt('bessell_V.dat')\n",
    "Rfilt = np.genfromtxt('bessell_R.dat')\n",
    "\n",
    "# Plot filter response vs wavelength for inspection. \n",
    "# Use plt.plot function.\n"
   ]
  },
  {
   "cell_type": "markdown",
   "metadata": {},
   "source": [
    "### Question: What is the normalization used for the B, V, and R passbands from the Bessel reference?\n",
    "\n",
    "*Write your answer here*\n"
   ]
  },
  {
   "cell_type": "markdown",
   "metadata": {},
   "source": [
    "## Photometry\n",
    "\n",
    "Next, write a function that takes a source spectrum and a filter function, and numerically integrates over wavelength to calculate the measured flux in that photometric band. This integral represents the actual signal measured by the telescope&mdash;the source spectrum defines the flux from the source at each wavelength, then we multiply by the filter function to determine what fraction of that light passes into the camera, and we integrate to add up that light over all wavelengths.\n",
    "\n",
    "**Don't forget to pay attention to the units.** The filter functions that we found from the Bessell paper define wavelength in units of nm, but we will switch to units of cm to avoid confusion with the formulas from the textbook. The source spectrum is $f_\\nu$ with units of $\\mathrm{erg} \\, \\mathrm{s}^{-1} \\mathrm{cm}^{-2} \\mathrm{cm}^{-1}$, which means \"energy per second per square cm of telescope area per cm wavelength interval.\" After we integrate over wavelength, the returned value will be $f_{band}$ with units of $\\mathrm{erg} \\, \\mathrm{s}^{-1} \\mathrm{cm}^{-2}$. The calculation performed in this function doesn't actually know about the units used, but you will make your life a lot easier if you choose a specific convention for the units and stick to it."
   ]
  },
  {
   "cell_type": "code",
   "execution_count": null,
   "metadata": {
    "collapsed": true
   },
   "outputs": [],
   "source": [
    "def photometric_flux(lmbda, filt, spectrum):\n",
    "    \"\"\"\n",
    "    Calculate measured flux for a source observed with a photometric filter.\n",
    "    \n",
    "    Inputs\n",
    "    ------\n",
    "    lmbda : array, shape=(N,)\n",
    "        Array of wavelength values, in units of cm.\n",
    "    filt : array, shape=(N,)\n",
    "        Filter response at each wavelength.\n",
    "    spectrum : array\n",
    "        Source spectrum at each wavelength, in units of erg s^{-1} cm^{-2} cm^{-1}.\n",
    "    \n",
    "    Returns\n",
    "    -------\n",
    "    flux : float\n",
    "        Flux measured in a photometric band, in units of erg s^{-1} cm^{-2}.\n",
    "    \n",
    "    \"\"\"\n",
    "    \n",
    "    # Multiply source spectrum by filter function and numerically integrate.\n",
    "    # Try using the np.trapz function, which performs numerical integration using the trapezoidal rule.\n",
    "    # ***ADD CODE HERE TO CALCULATE FLUX***\n",
    "    return flux\n",
    "\n",
    "\n",
    "# Test this function out by calculating the V-band flux from a source with a flat spectrum.\n",
    "lmbda = Vfilt[:,0] * 1e-7 # Wavelength values for the filter function. Convert from nm to cm!\n",
    "filt = Vfilt[:,1] # V-band filter function.\n",
    "spectrum = np.ones(lmbda.shape) # Source spectrum is defined at each wavelength value, but always equal to one.\n",
    "print(photometric_flux(lmbda, filt, spectrum))\n",
    "# Value should be 8.9e-6 erg s^{-1} cm^{-2}.\n",
    "\n",
    "# If we double the source spectrum, then photometric flux should double as well.\n",
    "print(photometric_flux(lmbda, filt, 2 * spectrum))\n",
    "# Value should be 1.8e-5 erg s^{-1} cm^{-2}.\n"
   ]
  },
  {
   "cell_type": "markdown",
   "metadata": {},
   "source": [
    "## Color magnitude\n",
    "\n",
    "To derive the color of an object, we can either take the ratio of the measured flux in two bands or the difference of the magnitudes&mdash;these are equivalent because magnitudes are logarithmic. Recall the formula for astronomical magnitudes:\n",
    "\n",
    "$$\n",
    "\\begin{equation}\n",
    "\\mathrm{mag} - \\mathrm{mag}_0 = -2.5 \\log_{10} \\left( \\frac{\\mathrm{flux}}{\\mathrm{flux}_0} \\right)\n",
    "\\end{equation}\n",
    "$$\n",
    "\n",
    "The expression for color is:\n",
    "\n",
    "$$\n",
    "\\begin{equation}\n",
    "\\mathrm{color}_{A-B} = (\\mathrm{mag}_A - \\mathrm{mag}_{0,A}) - (\\mathrm{mag}_B - \\mathrm{mag}_{0,B})\n",
    "\\end{equation}\n",
    "$$\n",
    "\n",
    "The radius and distance of the object are the same for both measurements (labeled $A$ and $B$ above), so the distinction between absolute and apparent flux doesn't matter for color. However, it is important to keep track of the zero-point magnitudes, which specify the reference flux for each photometric band. These magnitudes can be affected by the normalization of the filter functions, which we inspected above.\n",
    "\n",
    "Write a function to calculate color using two measured fluxes and their corresponding zero-point magnitudes. We will leave the zero-point magnitudes unspecified for now but will come back to them soon."
   ]
  },
  {
   "cell_type": "code",
   "execution_count": null,
   "metadata": {
    "collapsed": true
   },
   "outputs": [],
   "source": [
    "def color(fluxA, fluxB, zpA, zpB):\n",
    "    \"\"\"\n",
    "    Calculate color from measured flux in two bands.\n",
    "    \n",
    "    Inputs\n",
    "    ------\n",
    "    fluxA : float\n",
    "        Measured flux in band A.\n",
    "    fluxB : float\n",
    "        Measured flux in band B.\n",
    "    zpA : float\n",
    "        Zero-point flux for band A.\n",
    "    zpB : float\n",
    "        Zero-point flux for band B.\n",
    "        \n",
    "    Returns\n",
    "    -------\n",
    "    clr : float\n",
    "        Color magnitude calculated from the measurements provided.\n",
    "    \n",
    "    \"\"\"\n",
    "    \n",
    "    # To calculate base-10 logarithms, use the function np.log10\n",
    "    # ***ADD CODE HERE TO CALCULATE COLOR***\n",
    "    return clr\n",
    "\n",
    "\n",
    "# Test this function with a simple case.\n",
    "# Assume the zero-point flux for bands A and B are both 1e10 erg s^{-1} cm^{-2}.\n",
    "zpA = 1.0e10\n",
    "zpB = 1.0e10\n",
    "# Try the following values for the observed flux of an object in bands A and B.\n",
    "fluxA = 0.9e9\n",
    "fluxB = 0.5e10\n",
    "# Calculate the color magnitude.\n",
    "print(color(fluxA, fluxB, zpA, zpB))\n",
    "# For this example, value should be 1.86\n"
   ]
  },
  {
   "cell_type": "markdown",
   "metadata": {},
   "source": [
    "## Blackbody spectra\n",
    "\n",
    "Our goal is to determine the relationship between color and temperature for blackbody spectra. Write a function to calculate the blackbody flux for a specified temperature. The blackbody flux calculated by this function will be used for the source spectrum input to your `photometric_flux` function, so you want the units to be $\\mathrm{erg} \\, \\mathrm{s}^{-1} \\mathrm{cm}^{-2} \\mathrm{cm}^{-1}$."
   ]
  },
  {
   "cell_type": "code",
   "execution_count": null,
   "metadata": {
    "collapsed": true
   },
   "outputs": [],
   "source": [
    "def blackbody(lmbda, T):\n",
    "    \"\"\"\n",
    "    Calculate blackbody flux for temperature T at specified wavelengths.\n",
    "    IMPORTANT: Make sure to use the expression for intensity/flux per *wavelength* interval, not frequency.\n",
    "    \n",
    "    Inputs\n",
    "    ------\n",
    "    lmbda : array\n",
    "        Array of wavelength values to use, in units of cm.\n",
    "    T : float\n",
    "        Blackbody temperature, in units of Kelvin.\n",
    "        \n",
    "    Returns\n",
    "    -------\n",
    "    B : array\n",
    "        Blackbody flux per unit wavelength, in units of erg s^{-1} cm^{-2} cm^{-1}. \n",
    "    \n",
    "    \"\"\"\n",
    "    \n",
    "    # Fundamental constants (find these near the front of your textbook).\n",
    "    h = 6.6e-27 # erg s\n",
    "    c = 3.0e10  # cm s^{-1}\n",
    "    k = 1.4e-16 # erg K^{-1}\n",
    "    \n",
    "    # ***ADD CODE HERE TO CALCULATE BLACKBODY SPECTRUM***\n",
    "    return B\n",
    "\n",
    "\n",
    "# Plot some blackbody spectra.\n",
    "lmbda = np.logspace(2, 4, 100) # wavelengths ranging from 100 nm to 10000 nm\n",
    "lmbda_cm = lmbda * 1e-7 # convert from nm to cm\n",
    "# Loop over three values for temperature: 3000K, 6000K, and 10000K.\n",
    "for T in [3000., 6000., 10000.]:\n",
    "    # plt.loglog is like plt.plot except it makes plots with logarithmic x and y axes.\n",
    "    plt.loglog(lmbda, blackbody(lmbda_cm, T), label=\"{:0d}K\".format(int(T)))\n",
    "# Label our plot axes and add a legend.\n",
    "plt.xlabel('$\\lambda$ [nm]')\n",
    "plt.ylabel('flux [erg s$^{-1}$ cm$^{-2}$ cm$^{-1}$]')\n",
    "plt.legend()\n"
   ]
  },
  {
   "cell_type": "markdown",
   "metadata": {},
   "source": [
    "Now, let's return to the question of the zero-point magnitudes. We need to know these before we can calculate the color magnitudes of observed objects. As we covered in lecture, the reference point for the astronomical magnitude system is the star Vega. So for any photometric band, the zero-point flux is equal to the flux measured for Vega. (Again, we don't have to worry about the radius and distance of the star, because those factors divide out when we calculate color.)\n",
    "\n",
    "Vega is a type A0V star (means that it is a blue-white main sequence star) with an effective temperature of 9600K. Use the `blackbody` and `photometric_flux` functions that you have written to calculate zero-point fluxes for $B$, $V$, and $R$ bands."
   ]
  },
  {
   "cell_type": "code",
   "execution_count": null,
   "metadata": {
    "collapsed": true
   },
   "outputs": [],
   "source": [
    "# Calculate zero-point flux using Vega's effective temperature, 9600K.\n",
    "\n",
    "\n",
    "# Check the values that you calculated.\n",
    "# They will be large numbers (>1e10) in units of erg s^{-1} cm^{-2}.\n",
    "print(\"zero-point(B) = {}\".format(zpB))\n",
    "print(\"zero-point(V) = {}\".format(zpV))\n",
    "print(\"zero-point(R) = {}\".format(zpR))\n"
   ]
  },
  {
   "cell_type": "markdown",
   "metadata": {},
   "source": [
    "## Color-temperature relation\n",
    "\n",
    "Now that we have defined zero-point fluxes, we have all the tools needed to calculate $B-V$ color for blackbody sources of any temperature."
   ]
  },
  {
   "cell_type": "code",
   "execution_count": null,
   "metadata": {
    "collapsed": true
   },
   "outputs": [],
   "source": [
    "# Calculate B-V color for blackbodies with temperature ranging from 3000K (type M stars) to 40000K (type O stars).\n",
    "T = np.arange(3000.0, 40000.0, 1000.0)\n",
    "\n",
    "# Makes an empty array (with the same size as the array of T value).\n",
    "# Use this to store the calculated color magnitudes.\n",
    "BVcolor = np.zeros(shape=T.shape)\n",
    "\n",
    "# Loop over temperature values.\n",
    "for i in range(len(T)):\n",
    "    # Calculate flux in B band.\n",
    "\n",
    "    # Calculate flux in V band.\n",
    "\n",
    "    # Calculate B-V color (using zero-point fluxes that you calculated above).\n",
    "\n",
    "# Plot B-V color vs temperature.\n",
    "plt.plot(T, BVcolor)\n",
    "plt.xlabel('T [K]')\n",
    "plt.ylabel('$B-V$ color')\n"
   ]
  },
  {
   "cell_type": "markdown",
   "metadata": {
    "collapsed": true
   },
   "source": [
    "### Question: Based on the graph above, does $B-V$ color provide a more sensitive measurement of temperature at lower (&lt;10000K) or higher (&gt;20000K) temperatures? Explain how this difference in sensitivity relates to the shape of the blackbody spectrum.\n",
    "\n",
    "*Write your answer here*"
   ]
  },
  {
   "cell_type": "markdown",
   "metadata": {},
   "source": [
    "## Empirical relationship\n",
    "\n",
    "While the code you developed above can be used to calculate the $B-V$ color for any temperature blackbody, it is useful to have a simpler formula that can be quickly applied. Also for observational data, color is the thing that we measure and temperature is the derived quantity, which means that the independent and dependent variables are opposite of the function we used above.\n",
    "\n",
    "Try using the `np.polyfit` function with the results you have already calculated to derive a polynomial expression for temperature as a function of $B-V$ color. `np.polyfit` performs least squares regression to find the $n$th order polynomial that is the best fit to the data points provided. You can find documentation for how to use this function either by running `help(np.polyfit)` or by [looking it up on the web](http://lmgtfy.com/?q=numpy+polyfit).\n",
    "\n",
    "Try fitting the color-temperature relation using polynomials of various orders and plotting the results. What difference do you find in the fits if you restrict the input data to a particular range of colors or temperatures? What is the domain of validity? (i.e. over what range of color does the polynomial agree with your data points to within X%?)"
   ]
  },
  {
   "cell_type": "code",
   "execution_count": null,
   "metadata": {
    "collapsed": true
   },
   "outputs": [],
   "source": [
    "# Use np.polyfit to find a polynomial expression for temperature as a function of B-V color.\n",
    "# Plot results and inspect the fractional difference between this formula and the relationship \n",
    "# that you calculated above.\n"
   ]
  },
  {
   "cell_type": "markdown",
   "metadata": {},
   "source": [
    "In a 2012 publication, Ballesteros provides the following equation that (approximately) relates $B-V$ color and temperature ([Ballesteros, Europhys. Lett., 97, 34008](http://adsabs.harvard.edu/abs/2012EL.....9734008B)).\n",
    "\n",
    "$$\n",
    "\\begin{equation}\n",
    "T = 4600K \\times \\left( \\frac{1}{0.92 * (B-V) + 1.7} + \\frac{1}{0.92 * (B-V) + 0.62} \\right)\n",
    "\\end{equation}\n",
    "$$\n",
    "\n",
    "Use this formula to add another line to graph of temperature vs color that you made above. How well do the two curves agree? What are some possible causes of disagreement?"
   ]
  },
  {
   "cell_type": "code",
   "execution_count": null,
   "metadata": {
    "collapsed": true
   },
   "outputs": [],
   "source": [
    "# Calculate temperature from BVcolor using Ballesteros formula and compare it to the other curves.\n"
   ]
  }
 ],
 "metadata": {
  "kernelspec": {
   "display_name": "Python 2",
   "language": "python",
   "name": "python2"
  },
  "language_info": {
   "codemirror_mode": {
    "name": "ipython",
    "version": 3
   },
   "file_extension": ".py",
   "mimetype": "text/x-python",
   "name": "python",
   "nbconvert_exporter": "python",
   "pygments_lexer": "ipython3",
   "version": "3.7.0"
  }
 },
 "nbformat": 4,
 "nbformat_minor": 2
}
